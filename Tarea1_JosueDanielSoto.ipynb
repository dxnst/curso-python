{
 "cells": [
  {
   "cell_type": "markdown",
   "id": "0409634a-c85b-4429-ad94-48ebd0b57865",
   "metadata": {},
   "source": [
    "## Jupyter Notebook: Guía Básica de Inicio"
   ]
  },
  {
   "cell_type": "markdown",
   "id": "0739c745-6ed7-4494-b369-ad1df87b9eaf",
   "metadata": {},
   "source": [
    " 1. ¿Qué es un Jupyter Notebook?\n",
    " ---------------------------------\n",
    " Un Jupyter Notebook es una herramienta que permite combinar código, texto y visualizaciones en un mismo documento.\n",
    " Es muy utilizado en ciencia de datos, aprendizaje automático, análisis de datos, entre otros."
   ]
  },
  {
   "cell_type": "markdown",
   "id": "08d97abd-17d0-475b-8002-730939f1d144",
   "metadata": {},
   "source": [
    " 2. Tipos de celdas en Jupyter Notebook\n",
    " --------------------------------------\n",
    " Existen dos tipos principales de celdas:\n",
    " - **Code**: Para ejecutar código Python.\n",
    " - **Markdown**: Para escribir texto, explicaciones o fórmulas."
   ]
  },
  {
   "cell_type": "markdown",
   "id": "6273ec57-33ce-47ac-a6b0-74e29e44ffc4",
   "metadata": {},
   "source": [
    " 3. Cómo cambiar el tipo de celda\n",
    " --------------------------------\n",
    " - Haga clic en la celda y en la barra superior verá un menú desplegable que dice \"Code\".\n",
    " - Cámbielo a \"Markdown\" si desea escribir texto en lugar de código.m"
   ]
  },
  {
   "cell_type": "markdown",
   "id": "567e892c-8086-470f-b07c-4b272fd0b4b2",
   "metadata": {},
   "source": [
    " 4. Escribiendo texto en Markdown\n",
    " --------------------------------\n",
    " En una celda Markdown, puede usar:\n",
    " - Encabezados: # Título 1, ## Título 2, ### Título 3\n",
    " - Listas:\n",
    "   - Item 1\n",
    "   - Item 2\n",
    " - Negritas y cursivas:\n",
    "   - **Negrita**: **texto**\n",
    "   - *Cursiva*: *texto*\n",
    " - Código en línea: `print(\"Hola Mundo\")`\n",
    " - Bloques de código:\n",
    " ```python\n",
    " print(\"Hola Mundo\")\n",
    " ```"
   ]
  },
  {
   "cell_type": "markdown",
   "id": "f24c72a5-ef62-4b09-b6d9-77cc71e95dfd",
   "metadata": {},
   "source": [
    " 5. Ejecutar una celda\n",
    " ---------------------\n",
    " - Presione **Shift + Enter** para ejecutar la celda y pasar a la siguiente.\n",
    " - Presione **Ctrl + Enter** para ejecutar la celda sin moverse a la siguiente."
   ]
  },
  {
   "cell_type": "markdown",
   "id": "3f09a1da-bbc1-41bd-9484-9457f141dc3f",
   "metadata": {},
   "source": [
    " 6. Escribiendo y ejecutando código Python\n",
    " ----------------------------------------\n",
    " A continuación, ejecutemos un simple \"Hola Mundo\":"
   ]
  },
  {
   "cell_type": "code",
   "execution_count": 4,
   "id": "5a37c43f-ae25-4acb-aa02-5a9fa5dd7051",
   "metadata": {},
   "outputs": [
    {
     "name": "stdout",
     "output_type": "stream",
     "text": [
      "Hola Mundo\n"
     ]
    }
   ],
   "source": [
    "print(\"Hola Mundo\")"
   ]
  },
  {
   "attachments": {},
   "cell_type": "markdown",
   "id": "27861a50-3b70-4815-95aa-90987745b6b4",
   "metadata": {},
   "source": [
    " 7. Insertar celdas nuevas\n",
    " -------------------------\n",
    " - Presione **A** para insertar una celda arriba.\n",
    " - Presione **B** para insertar una celda abajo."
   ]
  },
  {
   "cell_type": "markdown",
   "id": "753ed255-a857-46cb-8134-08f8f6021e80",
   "metadata": {},
   "source": [
    " 8. Atajos útiles\n",
    " ----------------\n",
    " - **M**: Convertir la celda en Markdown.\n",
    " - **Y**: Convertir la celda en Código.\n",
    " - **D + D**: Eliminar una celda.\n",
    " - **Shift + Enter**: Ejecutar la celda."
   ]
  },
  {
   "cell_type": "markdown",
   "id": "14bae8c6-a2ad-4b45-9b3f-3c173dc35bb1",
   "metadata": {},
   "source": [
    " 9. Visualización de datos\n",
    " --------------------------\n",
    "Jupyter permite visualizar datos fácilmente. Por ejemplo, usemos pandas para ver un DataFrame:"
   ]
  },
  {
   "cell_type": "code",
   "execution_count": 5,
   "id": "94f8cdd3-cc99-4685-9887-16a7bffd0f4d",
   "metadata": {},
   "outputs": [
    {
     "data": {
      "text/html": [
       "<div>\n",
       "<style scoped>\n",
       "    .dataframe tbody tr th:only-of-type {\n",
       "        vertical-align: middle;\n",
       "    }\n",
       "\n",
       "    .dataframe tbody tr th {\n",
       "        vertical-align: top;\n",
       "    }\n",
       "\n",
       "    .dataframe thead th {\n",
       "        text-align: right;\n",
       "    }\n",
       "</style>\n",
       "<table border=\"1\" class=\"dataframe\">\n",
       "  <thead>\n",
       "    <tr style=\"text-align: right;\">\n",
       "      <th></th>\n",
       "      <th>Nombre</th>\n",
       "      <th>Edad</th>\n",
       "    </tr>\n",
       "  </thead>\n",
       "  <tbody>\n",
       "    <tr>\n",
       "      <th>0</th>\n",
       "      <td>Ana</td>\n",
       "      <td>23</td>\n",
       "    </tr>\n",
       "    <tr>\n",
       "      <th>1</th>\n",
       "      <td>Luis</td>\n",
       "      <td>30</td>\n",
       "    </tr>\n",
       "    <tr>\n",
       "      <th>2</th>\n",
       "      <td>Sofía</td>\n",
       "      <td>22</td>\n",
       "    </tr>\n",
       "  </tbody>\n",
       "</table>\n",
       "</div>"
      ],
      "text/plain": [
       "  Nombre  Edad\n",
       "0    Ana    23\n",
       "1   Luis    30\n",
       "2  Sofía    22"
      ]
     },
     "execution_count": 5,
     "metadata": {},
     "output_type": "execute_result"
    }
   ],
   "source": [
    "import pandas as pd\n",
    "\n",
    "data = {'Nombre': ['Ana', 'Luis', 'Sofía'], 'Edad': [23, 30, 22]}\n",
    "df = pd.DataFrame(data)\n",
    "df"
   ]
  },
  {
   "cell_type": "markdown",
   "id": "c09c1ab9-ecee-41e6-ab17-c5389f2d4061",
   "metadata": {},
   "source": [
    " 10. Gráficos rápidos\n",
    " ---------------------\n",
    "Puede crear gráficos directamente en el notebook:"
   ]
  },
  {
   "cell_type": "code",
   "execution_count": 7,
   "id": "3c13644a-969c-42a4-822d-991869712734",
   "metadata": {},
   "outputs": [
    {
     "data": {
      "image/png": "[encoded data removed]",
      "text/plain": [
       "<Figure size 640x480 with 1 Axes>"
      ]
     },
     "metadata": {},
     "output_type": "display_data"
    }
   ],
   "source": [
    "import matplotlib.pyplot as plt\n",
    "\n",
    "plt.plot([1, 2, 3], [4, 5, 6])\n",
    "plt.title('Gráfico simple')\n",
    "plt.show()"
   ]
  },
  {
   "cell_type": "markdown",
   "id": "df08a3e6-7293-43cd-a1ea-eb6b4d0b8f2c",
   "metadata": {
    "jp-MarkdownHeadingCollapsed": true
   },
   "source": [
    "  11. Guardar el notebook\n",
    "  ------------------------\n",
    " - Haga clic en \"File\" > \"Download as\" > \"Notebook (.ipynb)\" para guardarlo.\n",
    " - También puede exportarlo como PDF o HTML."
   ]
  },
  {
   "cell_type": "markdown",
   "id": "bce18900-2d85-49fb-9dfc-7668e9bdc737",
   "metadata": {},
   "source": [
    " 12. Datos de estudiante\n",
    " ------------------------\n",
    "- **Nombre**: Josué Daniel Soto Consuegra\n",
    "- **DPI**: 3157980840902\n",
    "- **Email**: josuesoto201931435@cunoc.edu.gt"
   ]
  }
 ],
 "metadata": {
  "kernelspec": {
   "display_name": "Python 3 (ipykernel)",
   "language": "python",
   "name": "python3"
  },
  "language_info": {
   "codemirror_mode": {
    "name": "ipython",
    "version": 3
   },
   "file_extension": ".py",
   "mimetype": "text/x-python",
   "name": "python",
   "nbconvert_exporter": "python",
   "pygments_lexer": "ipython3",
   "version": "3.13.2"
  }
 },
 "nbformat": 4,
 "nbformat_minor": 5
}
