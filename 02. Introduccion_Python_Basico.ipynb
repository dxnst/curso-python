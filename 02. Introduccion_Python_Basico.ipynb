{
 "cells": [
  {
   "cell_type": "markdown",
   "metadata": {},
   "source": [
    "# Introducción a la Programación con Python 🐍\n",
    "\n",
    "Este notebook cubre conceptos básicos de programación usando Python:\n",
    "\n",
    "- Variables y tipos de datos\n",
    "- Operaciones básicas: suma, resta\n",
    "- Trabajar con texto (strings)\n",
    "- Listas y slicing\n",
    "- Diccionarios\n",
    "\n"
   ]
  },
  {
   "cell_type": "markdown",
   "metadata": {},
   "source": [
    "## Variables y Tipos de Datos\n",
    "\n",
    "Una variable es un espacio donde almacenamos información. Python detecta automáticamente el tipo de dato."
   ]
  },
  {
   "cell_type": "code",
   "execution_count": 1,
   "metadata": {},
   "outputs": [
    {
     "name": "stdout",
     "output_type": "stream",
     "text": [
      "10 3.14 Hola True\n"
     ]
    }
   ],
   "source": [
    "# Variables y tipos de datos\n",
    "numero = 10        # entero\n",
    "decimal = 3.14     # flotante\n",
    "texto = \"Hola\"     # string (texto)\n",
    "es_valido = True   # booleano\n",
    "\n",
    "print(numero, decimal, texto, es_valido)"
   ]
  },
  {
   "cell_type": "markdown",
   "metadata": {},
   "source": [
    "## Operaciones Básicas\n",
    "\n",
    "Podemos hacer operaciones como suma, resta, multiplicación y división fácilmente."
   ]
  },
  {
   "cell_type": "code",
   "execution_count": 2,
   "metadata": {},
   "outputs": [
    {
     "name": "stdout",
     "output_type": "stream",
     "text": [
      "Suma: 8\n",
      "Resta: 2\n"
     ]
    }
   ],
   "source": [
    "# Suma y resta\n",
    "a = 5\n",
    "b = 3\n",
    "\n",
    "suma = a + b\n",
    "resta = a - b\n",
    "\n",
    "print(\"Suma:\", suma)\n",
    "print(\"Resta:\", resta)"
   ]
  },
  {
   "cell_type": "markdown",
   "metadata": {},
   "source": [
    "## Trabajar con Texto (Strings)\n",
    "\n",
    "Los strings son textos. Puedes concatenarlos, repetirlos y obtener partes del texto."
   ]
  },
  {
   "cell_type": "code",
   "execution_count": 3,
   "metadata": {},
   "outputs": [
    {
     "name": "stdout",
     "output_type": "stream",
     "text": [
      "Hola, Carlos!\n",
      "----------\n"
     ]
    }
   ],
   "source": [
    "saludo = \"Hola\"\n",
    "nombre = \"Carlos\"\n",
    "\n",
    "mensaje = saludo + \", \" + nombre + \"!\"\n",
    "print(mensaje)\n",
    "\n",
    "# Repetir texto\n",
    "print(\"-\" * 10)"
   ]
  },
  {
   "cell_type": "markdown",
   "metadata": {},
   "source": [
    "## Listas y Slicing\n",
    "\n",
    "Las listas almacenan varios elementos. El *slicing* permite acceder a partes específicas de la lista."
   ]
  },
  {
   "cell_type": "markdown",
   "metadata": {},
   "source": [
    "\n",
    "\n",
    "<img src=\"https://files.realpython.com/media/t.eb0b38e642c5.png\">\n",
    "\n",
    "Una lista es una **secuencia ordenada** de objetos , los cuales estan separados por comas y encerrados en corchetes, es decir que la lista tendra la forma:\n",
    "\n",
    "# Colecciones, objetos contenedores\n",
    "\n",
    "Una de las mayores ventajas de la computacion o programacion cientifica y numerica es poder trabajar sobre grandes volumenes de informacion, y poder realizar operaciones sobre multiples elementos u objetos de manera rapida y eficiente.\n",
    "\n",
    "Para esto haremos uso(inicialmente) de objetos conocidos en en Python(y en muchos otros lenguajes) bajo algunos nombres comunes:\n",
    "\n",
    "* Colecciones\n",
    "* Estructuras de datos\n",
    "* Objetos contendedores\n",
    "\n",
    "\n",
    "## Objeto Contenedor\n",
    "\n",
    "Objeto contenedor es cualquier objeto que almacena  un numero arbitrario de otros objetos(contiene objetos) , generalmente los objetos contenedores proveen formas de **accesar** los objetos contenidos e **iterar** sobre ellos.\n"
   ]
  },
  {
   "cell_type": "code",
   "execution_count": 16,
   "metadata": {},
   "outputs": [
    {
     "name": "stdout",
     "output_type": "stream",
     "text": [
      "Todos: [10, 20, 30, 40, 50]\n",
      "Primeros 3: [10, 20, 30]\n",
      "Últimos 2: [40, 50]\n"
     ]
    }
   ],
   "source": [
    "numeros = [10, 20, 30, 40, 50]\n",
    "\n",
    "print(\"Todos:\", numeros)\n",
    "print(\"Primeros 3:\", numeros[:3])\n",
    "print(\"Últimos 2:\", numeros[-2:])"
   ]
  },
  {
   "cell_type": "markdown",
   "metadata": {},
   "source": [
    "\n",
    "La lista al ser un objeto, puede ser asignado a una variable(o identificador) tal como lo hemos hecho con los tipos basicos de la siguiente forma:\n",
    "\n",
    "< variable > = [< lista >]\n",
    "\n",
    "Por ejemplo:\n",
    "\n",
    "paises = [\"GT\",\"SV\",\"HN\",\"NI\",\"CR\"]\n",
    "\n",
    "A diferencia de otros lenguajes de programacion(y los arrays de estos) en Python las listas no  requieren que todos los objetos contenidos sean del mismo tipo y puede almacenar cualquier combinacion de tipos de objetos(incluidas otras listas)."
   ]
  },
  {
   "cell_type": "markdown",
   "metadata": {},
   "source": [
    "Podemos verificar si 2 listas son iguales(almacenan los mismos objetos) usando =="
   ]
  },
  {
   "cell_type": "code",
   "execution_count": 31,
   "metadata": {},
   "outputs": [
    {
     "data": {
      "text/plain": [
       "True"
      ]
     },
     "execution_count": 31,
     "metadata": {},
     "output_type": "execute_result"
    }
   ],
   "source": [
    "a = [1,2,3]\n",
    "b = [1,2,3]\n",
    "\n",
    "a==b"
   ]
  },
  {
   "cell_type": "code",
   "execution_count": 35,
   "metadata": {},
   "outputs": [
    {
     "name": "stdout",
     "output_type": "stream",
     "text": [
      "[1, 4.0, 'a']\n",
      "[3.14, 2.71, 42, [1, 4.0, 'a']]\n"
     ]
    }
   ],
   "source": [
    "u = [1,4.0,'a']\n",
    "v = [3.14,2.71,42,u] #podemos ver que la lista u es tambien un objeto contenido en la lista v\n",
    "\n",
    "print(u)\n",
    "print(v)"
   ]
  },
  {
   "cell_type": "code",
   "execution_count": 39,
   "metadata": {},
   "outputs": [
    {
     "data": {
      "text/plain": [
       "False"
      ]
     },
     "execution_count": 39,
     "metadata": {},
     "output_type": "execute_result"
    }
   ],
   "source": [
    "#una lista es \"ordenada\" por lo cual aunque guardan los mismos valores, por estar en diferente orden ,no son iguales\n",
    "\n",
    "a = [2,1,3] \n",
    "b = [1,2,3]\n",
    "\n",
    "a==b"
   ]
  },
  {
   "cell_type": "code",
   "execution_count": 43,
   "metadata": {},
   "outputs": [
    {
     "name": "stdout",
     "output_type": "stream",
     "text": [
      "3\n",
      "4\n"
     ]
    }
   ],
   "source": [
    "u = [1,4.0,'a']\n",
    "v = [3.14,2.71,42,u]\n",
    "\n",
    "print(len(u))\n",
    "print(len(v))"
   ]
  },
  {
   "cell_type": "code",
   "execution_count": 47,
   "metadata": {},
   "outputs": [
    {
     "name": "stdout",
     "output_type": "stream",
     "text": [
      "[1, 4.0, 'a', 1, 4.0, 'a']\n"
     ]
    }
   ],
   "source": [
    "listaDuplicada = u*2\n",
    "\n",
    "print(listaDuplicada)"
   ]
  },
  {
   "cell_type": "markdown",
   "metadata": {},
   "source": [
    "#### Concatenar multiples listas\n",
    "\n",
    "En muchos casos, podemos tener 2 o mas listas las cuales nos interesa unificar en una sola lista , esto lo logramos a traves de una \"concatenacion de listas\" que podemos lograr usando el operador **+** ,por ejemplo:"
   ]
  },
  {
   "cell_type": "code",
   "execution_count": 53,
   "metadata": {},
   "outputs": [
    {
     "name": "stdout",
     "output_type": "stream",
     "text": [
      "[1, 4.0, 'a', 3.14, 2.71, 42, [1, 4.0, 'a']]\n"
     ]
    }
   ],
   "source": [
    "w = u + v\n",
    "\n",
    "print(w)"
   ]
  },
  {
   "cell_type": "markdown",
   "metadata": {},
   "source": [
    "#### Agregar nuevos elementos al final de una lista\n",
    "\n",
    "Si necesitamos agregar nuevos elementos a una lista , podemos usar la funcion append(< nuevo elemento> ) aplicada sobre la lista, esto  agrega el nuevo contenido al final de la lista."
   ]
  },
  {
   "cell_type": "code",
   "execution_count": null,
   "metadata": {},
   "outputs": [],
   "source": []
  },
  {
   "cell_type": "code",
   "execution_count": 60,
   "metadata": {},
   "outputs": [
    {
     "name": "stdout",
     "output_type": "stream",
     "text": [
      "[1, 2, 3, 4, 5, 6, 'test']\n"
     ]
    }
   ],
   "source": [
    "a = [1,2,3,4]\n",
    "\n",
    "a.append(5)\n",
    "a.append(6)\n",
    "a.append('test')\n",
    "\n",
    "print(a)"
   ]
  },
  {
   "cell_type": "markdown",
   "metadata": {},
   "source": [
    "##### Indinces negativos\n",
    "Python nos permite acceder a los elementos de la lista utilizando indices negativos, el significado de esto es empezar a contar del ultimo elemento al primero, esto significa que el indice -1 hace referencia al ultimo elemento ,-2 hace referencia al penultimo y asi sucesivamente hasta el negativo del tamanio de la lista , es decir:\n",
    "\n",
    "-len(< lista >)\n",
    "\n",
    "Podemos ver entonces que los indices de una lista se encuentran en el intervalo\n",
    "\n",
    "[-len(< lista > ),len( < lista > ) -1]\n",
    "\n",
    "<img src=\"https://qph.fs.quoracdn.net/main-qimg-a380b1bc159589df5e0b9842e5b56b6d\">"
   ]
  },
  {
   "cell_type": "markdown",
   "metadata": {},
   "source": [
    "## Diccionarios\n",
    "\n",
    "Un diccionario guarda pares clave-valor. Es útil para representar datos estructurados."
   ]
  },
  {
   "cell_type": "code",
   "execution_count": null,
   "metadata": {},
   "outputs": [],
   "source": [
    "persona = {\n",
    "    \"nombre\": \"Ana\",\n",
    "    \"edad\": 25,\n",
    "    \"ciudad\": \"Guatemala\"\n",
    "}\n",
    "\n",
    "print(\"Nombre:\", persona[\"nombre\"])\n",
    "print(\"Edad:\", persona[\"edad\"])"
   ]
  }
 ],
 "metadata": {
  "kernelspec": {
   "display_name": "Python 3 (ipykernel)",
   "language": "python",
   "name": "python3"
  },
  "language_info": {
   "codemirror_mode": {
    "name": "ipython",
    "version": 3
   },
   "file_extension": ".py",
   "mimetype": "text/x-python",
   "name": "python",
   "nbconvert_exporter": "python",
   "pygments_lexer": "ipython3",
   "version": "3.13.3"
  }
 },
 "nbformat": 4,
 "nbformat_minor": 4
}
